{
 "cells": [
  {
   "cell_type": "code",
   "execution_count": 1,
   "id": "e12120dd-b6b2-4782-b869-faa2a6821f26",
   "metadata": {},
   "outputs": [],
   "source": [
    "import urllib.request\n",
    "import anndata\n",
    "import pandas as pd\n",
    "from pathlib import Path\n",
    "from ikarus import classifier, utils, data\n",
    "\n",
    "import numpy as np\n",
    "import scanpy as sc\n",
    "import matplotlib.pyplot as plt"
   ]
  },
  {
   "cell_type": "markdown",
   "id": "4dc1931c-37a1-4575-954e-fc546f8873d1",
   "metadata": {},
   "source": [
    "# Use the pre-trained model"
   ]
  },
  {
   "cell_type": "code",
   "execution_count": 20,
   "id": "09a23e6e-56d7-489a-b0b5-4113515fc4ca",
   "metadata": {},
   "outputs": [
    {
     "name": "stderr",
     "output_type": "stream",
     "text": [
      "/Users/nzhang/opt/anaconda3/envs/ikarus/lib/python3.8/site-packages/sklearn/base.py:329: UserWarning: Trying to unpickle estimator LogisticRegression from version 0.24.2 when using version 1.1.1. This might lead to breaking code or invalid results. Use at your own risk. For more info please refer to:\n",
      "https://scikit-learn.org/stable/model_persistence.html#security-maintainability-limitations\n",
      "  warnings.warn(\n"
     ]
    }
   ],
   "source": [
    "signatures_path = Path(\"../model/signatures.gmt.txt\")\n",
    "model_path = Path(\"../model/core_model.joblib\")\n",
    "model = classifier.Ikarus(signatures_gmt=signatures_path, out_dir=\"out\")\n",
    "model.load_core_model(model_path)"
   ]
  },
  {
   "cell_type": "markdown",
   "id": "5414b619-de69-47f4-81a2-ccff9a86459e",
   "metadata": {},
   "source": [
    "# Read data"
   ]
  },
  {
   "cell_type": "code",
   "execution_count": 7,
   "id": "82c50a18-dc89-4f32-8f97-a97841d5d87a",
   "metadata": {},
   "outputs": [],
   "source": [
    "KUL21_N=anndata.read_h5ad(\"../data/KUL21_N.h5ad\")\n",
    "KUL21_T=anndata.read_h5ad(\"../data/KUL21_T.h5ad\")"
   ]
  },
  {
   "cell_type": "code",
   "execution_count": 17,
   "id": "5e148fcd-4d73-4b25-a436-6dcfa0ded118",
   "metadata": {},
   "outputs": [
    {
     "data": {
      "text/html": [
       "<div>\n",
       "<style scoped>\n",
       "    .dataframe tbody tr th:only-of-type {\n",
       "        vertical-align: middle;\n",
       "    }\n",
       "\n",
       "    .dataframe tbody tr th {\n",
       "        vertical-align: top;\n",
       "    }\n",
       "\n",
       "    .dataframe thead th {\n",
       "        text-align: right;\n",
       "    }\n",
       "</style>\n",
       "<table border=\"1\" class=\"dataframe\">\n",
       "  <thead>\n",
       "    <tr style=\"text-align: right;\">\n",
       "      <th></th>\n",
       "      <th>RP11-34P13.3</th>\n",
       "      <th>FAM138A</th>\n",
       "      <th>OR4F5</th>\n",
       "      <th>RP11-34P13.7</th>\n",
       "      <th>RP11-34P13.8</th>\n",
       "      <th>RP11-34P13.14</th>\n",
       "      <th>RP11-34P13.9</th>\n",
       "      <th>FO538757.3</th>\n",
       "      <th>FO538757.2</th>\n",
       "      <th>AP006222.2</th>\n",
       "    </tr>\n",
       "  </thead>\n",
       "  <tbody>\n",
       "    <tr>\n",
       "      <th>KUL21-N_AAACCTGCACGGATAG</th>\n",
       "      <td>0.0</td>\n",
       "      <td>0.0</td>\n",
       "      <td>0.0</td>\n",
       "      <td>0.0</td>\n",
       "      <td>0.0</td>\n",
       "      <td>0.0</td>\n",
       "      <td>0.0</td>\n",
       "      <td>0.0</td>\n",
       "      <td>0.000000</td>\n",
       "      <td>0.0</td>\n",
       "    </tr>\n",
       "    <tr>\n",
       "      <th>KUL21-N_AACTGGTTCCCTAACC</th>\n",
       "      <td>0.0</td>\n",
       "      <td>0.0</td>\n",
       "      <td>0.0</td>\n",
       "      <td>0.0</td>\n",
       "      <td>0.0</td>\n",
       "      <td>0.0</td>\n",
       "      <td>0.0</td>\n",
       "      <td>0.0</td>\n",
       "      <td>2.028809</td>\n",
       "      <td>0.0</td>\n",
       "    </tr>\n",
       "    <tr>\n",
       "      <th>KUL21-N_AACTTTCAGGTCGGAT</th>\n",
       "      <td>0.0</td>\n",
       "      <td>0.0</td>\n",
       "      <td>0.0</td>\n",
       "      <td>0.0</td>\n",
       "      <td>0.0</td>\n",
       "      <td>0.0</td>\n",
       "      <td>0.0</td>\n",
       "      <td>0.0</td>\n",
       "      <td>0.000000</td>\n",
       "      <td>0.0</td>\n",
       "    </tr>\n",
       "    <tr>\n",
       "      <th>KUL21-N_AAGCCGCAGATGGGTC</th>\n",
       "      <td>0.0</td>\n",
       "      <td>0.0</td>\n",
       "      <td>0.0</td>\n",
       "      <td>0.0</td>\n",
       "      <td>0.0</td>\n",
       "      <td>0.0</td>\n",
       "      <td>0.0</td>\n",
       "      <td>0.0</td>\n",
       "      <td>0.000000</td>\n",
       "      <td>0.0</td>\n",
       "    </tr>\n",
       "    <tr>\n",
       "      <th>KUL21-N_AAGCCGCCATGTAAGA</th>\n",
       "      <td>0.0</td>\n",
       "      <td>0.0</td>\n",
       "      <td>0.0</td>\n",
       "      <td>0.0</td>\n",
       "      <td>0.0</td>\n",
       "      <td>0.0</td>\n",
       "      <td>0.0</td>\n",
       "      <td>0.0</td>\n",
       "      <td>1.064730</td>\n",
       "      <td>0.0</td>\n",
       "    </tr>\n",
       "  </tbody>\n",
       "</table>\n",
       "</div>"
      ],
      "text/plain": [
       "                          RP11-34P13.3  FAM138A  OR4F5  RP11-34P13.7  \\\n",
       "KUL21-N_AAACCTGCACGGATAG           0.0      0.0    0.0           0.0   \n",
       "KUL21-N_AACTGGTTCCCTAACC           0.0      0.0    0.0           0.0   \n",
       "KUL21-N_AACTTTCAGGTCGGAT           0.0      0.0    0.0           0.0   \n",
       "KUL21-N_AAGCCGCAGATGGGTC           0.0      0.0    0.0           0.0   \n",
       "KUL21-N_AAGCCGCCATGTAAGA           0.0      0.0    0.0           0.0   \n",
       "\n",
       "                          RP11-34P13.8  RP11-34P13.14  RP11-34P13.9  \\\n",
       "KUL21-N_AAACCTGCACGGATAG           0.0            0.0           0.0   \n",
       "KUL21-N_AACTGGTTCCCTAACC           0.0            0.0           0.0   \n",
       "KUL21-N_AACTTTCAGGTCGGAT           0.0            0.0           0.0   \n",
       "KUL21-N_AAGCCGCAGATGGGTC           0.0            0.0           0.0   \n",
       "KUL21-N_AAGCCGCCATGTAAGA           0.0            0.0           0.0   \n",
       "\n",
       "                          FO538757.3  FO538757.2  AP006222.2  \n",
       "KUL21-N_AAACCTGCACGGATAG         0.0    0.000000         0.0  \n",
       "KUL21-N_AACTGGTTCCCTAACC         0.0    2.028809         0.0  \n",
       "KUL21-N_AACTTTCAGGTCGGAT         0.0    0.000000         0.0  \n",
       "KUL21-N_AAGCCGCAGATGGGTC         0.0    0.000000         0.0  \n",
       "KUL21-N_AAGCCGCCATGTAAGA         0.0    1.064730         0.0  "
      ]
     },
     "execution_count": 17,
     "metadata": {},
     "output_type": "execute_result"
    }
   ],
   "source": [
    "KUL21_N.to_df().iloc[0:5,0:10]"
   ]
  },
  {
   "cell_type": "code",
   "execution_count": 18,
   "id": "f9a1657d-9c56-442e-a559-66cd0aa96944",
   "metadata": {},
   "outputs": [
    {
     "data": {
      "text/html": [
       "<div>\n",
       "<style scoped>\n",
       "    .dataframe tbody tr th:only-of-type {\n",
       "        vertical-align: middle;\n",
       "    }\n",
       "\n",
       "    .dataframe tbody tr th {\n",
       "        vertical-align: top;\n",
       "    }\n",
       "\n",
       "    .dataframe thead th {\n",
       "        text-align: right;\n",
       "    }\n",
       "</style>\n",
       "<table border=\"1\" class=\"dataframe\">\n",
       "  <thead>\n",
       "    <tr style=\"text-align: right;\">\n",
       "      <th></th>\n",
       "      <th>RP11-34P13.3</th>\n",
       "      <th>FAM138A</th>\n",
       "      <th>OR4F5</th>\n",
       "      <th>RP11-34P13.7</th>\n",
       "      <th>RP11-34P13.8</th>\n",
       "      <th>RP11-34P13.14</th>\n",
       "      <th>RP11-34P13.9</th>\n",
       "      <th>FO538757.3</th>\n",
       "      <th>FO538757.2</th>\n",
       "      <th>AP006222.2</th>\n",
       "    </tr>\n",
       "  </thead>\n",
       "  <tbody>\n",
       "    <tr>\n",
       "      <th>KUL21-T_AAACGGGGTCTTCAAG</th>\n",
       "      <td>0.0</td>\n",
       "      <td>0.0</td>\n",
       "      <td>0.0</td>\n",
       "      <td>0.0</td>\n",
       "      <td>0.0</td>\n",
       "      <td>0.0</td>\n",
       "      <td>0.0</td>\n",
       "      <td>0.0</td>\n",
       "      <td>0.000000</td>\n",
       "      <td>0.000000</td>\n",
       "    </tr>\n",
       "    <tr>\n",
       "      <th>KUL21-T_AAAGATGCATCAGTCA</th>\n",
       "      <td>0.0</td>\n",
       "      <td>0.0</td>\n",
       "      <td>0.0</td>\n",
       "      <td>0.0</td>\n",
       "      <td>0.0</td>\n",
       "      <td>0.0</td>\n",
       "      <td>0.0</td>\n",
       "      <td>0.0</td>\n",
       "      <td>0.000000</td>\n",
       "      <td>0.000000</td>\n",
       "    </tr>\n",
       "    <tr>\n",
       "      <th>KUL21-T_AAAGATGTCTCTGCTG</th>\n",
       "      <td>0.0</td>\n",
       "      <td>0.0</td>\n",
       "      <td>0.0</td>\n",
       "      <td>0.0</td>\n",
       "      <td>0.0</td>\n",
       "      <td>0.0</td>\n",
       "      <td>0.0</td>\n",
       "      <td>0.0</td>\n",
       "      <td>0.000000</td>\n",
       "      <td>0.000000</td>\n",
       "    </tr>\n",
       "    <tr>\n",
       "      <th>KUL21-T_AAAGCAAAGCCGTCGT</th>\n",
       "      <td>0.0</td>\n",
       "      <td>0.0</td>\n",
       "      <td>0.0</td>\n",
       "      <td>0.0</td>\n",
       "      <td>0.0</td>\n",
       "      <td>0.0</td>\n",
       "      <td>0.0</td>\n",
       "      <td>0.0</td>\n",
       "      <td>0.289967</td>\n",
       "      <td>0.289967</td>\n",
       "    </tr>\n",
       "    <tr>\n",
       "      <th>KUL21-T_AAAGCAAAGGATATAC</th>\n",
       "      <td>0.0</td>\n",
       "      <td>0.0</td>\n",
       "      <td>0.0</td>\n",
       "      <td>0.0</td>\n",
       "      <td>0.0</td>\n",
       "      <td>0.0</td>\n",
       "      <td>0.0</td>\n",
       "      <td>0.0</td>\n",
       "      <td>0.502126</td>\n",
       "      <td>0.502126</td>\n",
       "    </tr>\n",
       "  </tbody>\n",
       "</table>\n",
       "</div>"
      ],
      "text/plain": [
       "                          RP11-34P13.3  FAM138A  OR4F5  RP11-34P13.7  \\\n",
       "KUL21-T_AAACGGGGTCTTCAAG           0.0      0.0    0.0           0.0   \n",
       "KUL21-T_AAAGATGCATCAGTCA           0.0      0.0    0.0           0.0   \n",
       "KUL21-T_AAAGATGTCTCTGCTG           0.0      0.0    0.0           0.0   \n",
       "KUL21-T_AAAGCAAAGCCGTCGT           0.0      0.0    0.0           0.0   \n",
       "KUL21-T_AAAGCAAAGGATATAC           0.0      0.0    0.0           0.0   \n",
       "\n",
       "                          RP11-34P13.8  RP11-34P13.14  RP11-34P13.9  \\\n",
       "KUL21-T_AAACGGGGTCTTCAAG           0.0            0.0           0.0   \n",
       "KUL21-T_AAAGATGCATCAGTCA           0.0            0.0           0.0   \n",
       "KUL21-T_AAAGATGTCTCTGCTG           0.0            0.0           0.0   \n",
       "KUL21-T_AAAGCAAAGCCGTCGT           0.0            0.0           0.0   \n",
       "KUL21-T_AAAGCAAAGGATATAC           0.0            0.0           0.0   \n",
       "\n",
       "                          FO538757.3  FO538757.2  AP006222.2  \n",
       "KUL21-T_AAACGGGGTCTTCAAG         0.0    0.000000    0.000000  \n",
       "KUL21-T_AAAGATGCATCAGTCA         0.0    0.000000    0.000000  \n",
       "KUL21-T_AAAGATGTCTCTGCTG         0.0    0.000000    0.000000  \n",
       "KUL21-T_AAAGCAAAGCCGTCGT         0.0    0.289967    0.289967  \n",
       "KUL21-T_AAAGCAAAGGATATAC         0.0    0.502126    0.502126  "
      ]
     },
     "execution_count": 18,
     "metadata": {},
     "output_type": "execute_result"
    }
   ],
   "source": [
    "KUL21_T.to_df().iloc[0:5,0:10]"
   ]
  },
  {
   "cell_type": "code",
   "execution_count": 34,
   "id": "cc53bf88-2880-43f1-9eae-2ee1dfd46b25",
   "metadata": {},
   "outputs": [],
   "source": [
    "KUL21_N.var[\"gene_symbol\"]=KUL21_N.var.index.values\n",
    "KUL21_T.var[\"gene_symbol\"]=KUL21_T.var.index.values"
   ]
  },
  {
   "cell_type": "markdown",
   "id": "56a68f08-d51b-4209-b838-d45e3302e924",
   "metadata": {},
   "source": [
    "# Make predictions"
   ]
  },
  {
   "cell_type": "code",
   "execution_count": 30,
   "id": "fc7f7166-3d92-4069-bf21-59a141419f85",
   "metadata": {},
   "outputs": [
    {
     "name": "stderr",
     "output_type": "stream",
     "text": [
      "/Users/nzhang/opt/anaconda3/envs/ikarus/lib/python3.8/site-packages/sklearn/base.py:443: UserWarning: X has feature names, but LogisticRegression was fitted without feature names\n",
      "  warnings.warn(\n",
      "/Users/nzhang/opt/anaconda3/envs/ikarus/lib/python3.8/site-packages/sklearn/base.py:443: UserWarning: X has feature names, but LogisticRegression was fitted without feature names\n",
      "  warnings.warn(\n",
      "/Users/nzhang/opt/anaconda3/envs/ikarus/lib/python3.8/site-packages/anndata/compat/_overloaded_dict.py:106: ImplicitModificationWarning: Trying to modify attribute `._uns` of view, initializing view as actual.\n",
      "  self.data[key] = value\n",
      "/Users/nzhang/opt/anaconda3/envs/ikarus/lib/python3.8/site-packages/tqdm/auto.py:22: TqdmWarning: IProgress not found. Please update jupyter and ipywidgets. See https://ipywidgets.readthedocs.io/en/stable/user_install.html\n",
      "  from .autonotebook import tqdm as notebook_tqdm\n"
     ]
    },
    {
     "name": "stdout",
     "output_type": "stream",
     "text": [
      "converged at iteration step: 7 with 0.0007 < 0.001\n"
     ]
    }
   ],
   "source": [
    "result_21N = model.predict(KUL21_N, \"KUL21_N\", save=True)"
   ]
  },
  {
   "cell_type": "code",
   "execution_count": 35,
   "id": "0ea176cc-8034-4867-8597-51184366f6d3",
   "metadata": {},
   "outputs": [
    {
     "name": "stderr",
     "output_type": "stream",
     "text": [
      "/Users/nzhang/opt/anaconda3/envs/ikarus/lib/python3.8/site-packages/sklearn/base.py:443: UserWarning: X has feature names, but LogisticRegression was fitted without feature names\n",
      "  warnings.warn(\n",
      "/Users/nzhang/opt/anaconda3/envs/ikarus/lib/python3.8/site-packages/sklearn/base.py:443: UserWarning: X has feature names, but LogisticRegression was fitted without feature names\n",
      "  warnings.warn(\n",
      "/Users/nzhang/opt/anaconda3/envs/ikarus/lib/python3.8/site-packages/anndata/compat/_overloaded_dict.py:106: ImplicitModificationWarning: Trying to modify attribute `._uns` of view, initializing view as actual.\n",
      "  self.data[key] = value\n"
     ]
    },
    {
     "name": "stdout",
     "output_type": "stream",
     "text": [
      "converged at iteration step: 7 with 0.0005 < 0.001\n"
     ]
    }
   ],
   "source": [
    "result_21T = model.predict(KUL21_T, \"KUL21_T\", save=True)"
   ]
  },
  {
   "cell_type": "markdown",
   "id": "957a481e-4c51-422f-87f1-6c63691485a7",
   "metadata": {},
   "source": [
    "# Predictions and cell types for the normal sample"
   ]
  },
  {
   "cell_type": "code",
   "execution_count": 31,
   "id": "c31cff12-7bf3-4ceb-8e68-1541c3b90cf4",
   "metadata": {},
   "outputs": [
    {
     "data": {
      "image/png": "[encoded data removed]",
      "text/plain": [
       "<Figure size 432x288 with 1 Axes>"
      ]
     },
     "metadata": {},
     "output_type": "display_data"
    }
   ],
   "source": [
    "KUL21_N.obs[\"final_pred\"]=result_21N\n",
    "sc.pl.umap(KUL21_N,color=\"final_pred\")"
   ]
  },
  {
   "cell_type": "code",
   "execution_count": 33,
   "id": "5ef685af-63f9-4b47-af53-987706bb7122",
   "metadata": {},
   "outputs": [
    {
     "data": {
      "image/png": "[encoded data removed]",
      "text/plain": [
       "<Figure size 432x288 with 1 Axes>"
      ]
     },
     "metadata": {},
     "output_type": "display_data"
    }
   ],
   "source": [
    "sc.pl.umap(KUL21_N,color=\"Cell_type\")"
   ]
  },
  {
   "cell_type": "markdown",
   "id": "d6254f56-8784-4519-8cff-2e216c70593f",
   "metadata": {},
   "source": [
    "# Predictions and cell types for the tumor sample"
   ]
  },
  {
   "cell_type": "code",
   "execution_count": 36,
   "id": "cad96252-68cc-4fa2-8642-fe2510158c7f",
   "metadata": {},
   "outputs": [
    {
     "data": {
      "image/png": "[encoded data removed]",
      "text/plain": [
       "<Figure size 432x288 with 1 Axes>"
      ]
     },
     "metadata": {},
     "output_type": "display_data"
    }
   ],
   "source": [
    "KUL21_T.obs[\"final_pred\"]=result_21T\n",
    "sc.pl.umap(KUL21_T,color=\"final_pred\")"
   ]
  },
  {
   "cell_type": "code",
   "execution_count": 37,
   "id": "a0206d7e-28c3-4949-a0dd-60e367dc80ef",
   "metadata": {},
   "outputs": [
    {
     "data": {
      "image/png": "[encoded data removed]",
      "text/plain": [
       "<Figure size 432x288 with 1 Axes>"
      ]
     },
     "metadata": {},
     "output_type": "display_data"
    }
   ],
   "source": [
    "sc.pl.umap(KUL21_T,color=\"Cell_type\")"
   ]
  },
  {
   "cell_type": "code",
   "execution_count": null,
   "id": "a245527f-0939-43fb-8fc7-a00a05c5ba82",
   "metadata": {},
   "outputs": [],
   "source": []
  }
 ],
 "metadata": {
  "kernelspec": {
   "display_name": "Python 3 (ipykernel)",
   "language": "python",
   "name": "python3"
  },
  "language_info": {
   "codemirror_mode": {
    "name": "ipython",
    "version": 3
   },
   "file_extension": ".py",
   "mimetype": "text/x-python",
   "name": "python",
   "nbconvert_exporter": "python",
   "pygments_lexer": "ipython3",
   "version": "3.8.13"
  }
 },
 "nbformat": 4,
 "nbformat_minor": 5
}
